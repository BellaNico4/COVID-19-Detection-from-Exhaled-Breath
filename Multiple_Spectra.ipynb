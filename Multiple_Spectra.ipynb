{
 "cells": [
  {
   "cell_type": "code",
   "execution_count": null,
   "id": "e2cc4dfe-1066-4e84-b8fe-eada1be0b126",
   "metadata": {},
   "outputs": [],
   "source": [
    "from build_db import *\n",
    "from classifications import *\n",
    "#from skrebate import ReliefF\n",
    "#from skrebate import SURFstar\n",
    "#from skrebate import MultiSURFstar\n",
    "from create_plots import *\n",
    "import datetime\n",
    "from sklearn.decomposition import KernelPCA\n",
    "from sklearn.model_selection import RandomizedSearchCV\n",
    "from scipy.stats import randint, uniform\n",
    "import plotly.express as px\n",
    "import warnings\n",
    "warnings.filterwarnings('ignore')"
   ]
  },
  {
   "cell_type": "code",
   "execution_count": null,
   "id": "423f4c0e-7d59-4c03-8f03-2ff1a1e57a2f",
   "metadata": {},
   "outputs": [],
   "source": [
    "path = fr'your_data_path_here_range_1.csv'\n",
    "df_multiple = get_acquisitions_in_plateau(path,range_idx=1,tolerance=0.75,spectra_to_keep=4)\n",
    "features = list(df_multiple.columns.drop(['acq','index']))\n",
    "df_multiple[features] = df_multiple[features].apply(normalize_spectrum_sum,axis=1)\n",
    "df_filtered = apply_filters(df_multiple,features)\n",
    "df_all = df_filtered\n",
    "features_all = list(features)\n",
    "df_all.rename(columns={'acq':f'acq_{1}'},inplace=True)\n",
    "for i in range(2,5):\n",
    "    path = fr'your_data_path_here_range_{i}.csv'\n",
    "    df_multiple = get_acquisitions_in_plateau(path,range_idx=i,tolerance=0.75,spectra_to_keep=4)\n",
    "    features = list(df_multiple.columns.drop(['acq','index']))\n",
    "    df_multiple.loc[:,features] = df_multiple[features].apply(normalize_spectrum_sum,axis=1)\n",
    "    df_filtered = apply_filters(df_multiple,features)\n",
    "    #df_filtered = df_multiple\n",
    "    features_all = list(set(features_all).union(set(features)))\n",
    "    df_filtered.rename(columns={'acq':f'acq_{i}'},inplace=True)\n",
    "    df_all = df_all.merge(df_filtered,on='index',suffixes=(f'', f'_bis')).reset_index(drop=True)\n",
    "features_all.sort(key=float)"
   ]
  },
  {
   "cell_type": "code",
   "execution_count": null,
   "id": "33a02389-4e20-4da1-bb9c-5bdd38bcbc71",
   "metadata": {},
   "outputs": [],
   "source": [
    "df_all[[x for x in df_all.columns if 'acq' in x]]"
   ]
  },
  {
   "cell_type": "code",
   "execution_count": null,
   "id": "cd393cdd-76db-4bd0-8ba1-b8989b96be2f",
   "metadata": {},
   "outputs": [],
   "source": [
    "labels_path = r'your_labels_here.csv'\n",
    "df_labels = get_labels(labels_path,range_=2)"
   ]
  },
  {
   "cell_type": "code",
   "execution_count": null,
   "id": "f50ece93-6caa-476b-b770-b55760880e98",
   "metadata": {},
   "outputs": [],
   "source": [
    "df_merged = df_all.merge(df_labels,on='index').reset_index(drop=True)\n",
    "outliers = [\"your_index_outliers\"]\n",
    "df_merged = df_merged[~df_merged['index'].isin(outliers)]"
   ]
  },
  {
   "cell_type": "code",
   "execution_count": null,
   "id": "a076be66-eae5-4134-ad51-5176a380503a",
   "metadata": {},
   "outputs": [],
   "source": [
    "df_merged['index'].unique().shape"
   ]
  },
  {
   "cell_type": "code",
   "execution_count": null,
   "id": "c5efe661-7733-434a-80f7-96c1b86c2bb0",
   "metadata": {},
   "outputs": [],
   "source": [
    "plot_multiple_spectra(df_merged.groupby('index').mean(numeric_only=True).reset_index(),features_all,'Covid',title='Spectra normalized and filtered')"
   ]
  },
  {
   "cell_type": "code",
   "execution_count": null,
   "id": "9c18e818-e5a7-409a-a957-c576f789adf4",
   "metadata": {},
   "outputs": [],
   "source": [
    "df_filtered = pd.DataFrame(df_merged.loc[:,features_all].apply(normalize_spectrum_sum,axis=1),columns=features_all,index=df_merged.index)\n",
    "new_features = df_filtered.loc[:, (df_filtered != 0).any(axis=0)].columns\n",
    "other_columns = df_merged.columns.drop(df_filtered.columns)\n",
    "df_filtered[other_columns] = df_merged[other_columns]"
   ]
  },
  {
   "cell_type": "code",
   "execution_count": null,
   "id": "32b9b219-d40f-4906-a786-883745610011",
   "metadata": {},
   "outputs": [],
   "source": [
    "plot_multiple_spectra(df_filtered.groupby('index').mean(numeric_only=True).reset_index(),features_all,'Covid',title='Spectra normalized and filtered')"
   ]
  },
  {
   "cell_type": "code",
   "execution_count": null,
   "id": "a4463713-d502-4724-8069-8ce726b8c51d",
   "metadata": {},
   "outputs": [],
   "source": [
    "df_filtered['index'].unique().shape"
   ]
  },
  {
   "cell_type": "code",
   "execution_count": null,
   "id": "99776345-081c-4d0d-9264-72d646d1ff6e",
   "metadata": {},
   "outputs": [],
   "source": [
    "df_filtered.shape"
   ]
  },
  {
   "cell_type": "code",
   "execution_count": null,
   "id": "c805861a-a66a-482c-9cb4-d56a18aeb765",
   "metadata": {},
   "outputs": [],
   "source": [
    "plot_transformer(df_merged, features,transformer=TSNE(random_state=0, n_components=2),index='index',color='Covid',additional_text = '',pre_processer=Pipeline([           \n",
    "    ('prep',RobustScaler()),     \n",
    "    ]))"
   ]
  },
  {
   "cell_type": "code",
   "execution_count": null,
   "id": "d9964faa-9d93-461a-a425-61cd951ec58b",
   "metadata": {},
   "outputs": [],
   "source": [
    "len(features_all)"
   ]
  },
  {
   "cell_type": "code",
   "execution_count": null,
   "id": "9b5498d1-b3cb-43f6-8bc2-6911ca7721a8",
   "metadata": {},
   "outputs": [],
   "source": [
    "vr = VarianceThreshold()\n",
    "vr.fit(df_filtered[features_all])\n",
    "new_features = list(vr.get_feature_names_out())\n",
    "print(len(new_features))\n",
    "\n",
    "X = df_filtered[new_features+['index']]\n",
    "y = df_filtered[['Covid','index']]\n",
    "\n",
    "#X = X.groupby('index').mean().reset_index()\n",
    "#y = y.groupby('index').min().reset_index()\n",
    "\n",
    "clf1 = KNeighborsClassifier(n_neighbors=5,metric='minkowski')\n",
    "clf2 = RandomForestClassifier(random_state=1)\n",
    "clf3 = LogisticRegression()\n",
    "clf4 = GradientBoostingClassifier(min_samples_leaf=2,n_estimators= 500, max_depth = 3, learning_rate=0.1,random_state=1)\n",
    "clf5 = SVC(gamma='auto',C=1,probability=True,random_state = 1)\n",
    "eclf = VotingClassifier(estimators=[('knn', clf1), ('rf', clf2), ('gnb', clf3), ('gbc', clf4), ('svc', clf5)],\n",
    "                            voting='soft')\n",
    "clf_dict = {}\n",
    "for clf, label in zip([clf1, clf2, clf3, clf4, clf5, eclf],['KNN', 'Random Forest', 'Logistic Regression', 'Gradient Boosting', 'SVC', 'Ensemble']):\n",
    "        clf_dict[label] = Pipeline([\n",
    "                ('std',RobustScaler()),\n",
    "                #('feature_selection',MultiSURFstar(n_features_to_select=100,n_jobs=-1)),\n",
    "                ('pca',PCA(20)),\n",
    "                ('clf',clf)\n",
    "        \n",
    "        ])\n"
   ]
  },
  {
   "cell_type": "code",
   "execution_count": null,
   "id": "3dc1ba27-5ddd-42c6-9bc2-c49a5468aede",
   "metadata": {},
   "outputs": [],
   "source": [
    "import contextlib\n",
    "output_filename = 'PERFORMANCES 1734 FEATURES'\n",
    "\n",
    "std_out_path = f'./{output_filename}.out'\n",
    "std_err_path = f'./{output_filename}.err'\n",
    "\n",
    "with open(std_err_path, 'w') as ferr:\n",
    "    with contextlib.redirect_stderr(ferr):\n",
    "        with open(std_out_path, 'w') as fout:\n",
    "            with contextlib.redirect_stdout(fout):\n",
    "                results,list_df = train_test(clf_dict,X,y,new_features,return_train_score=False,cv=StratifiedGroupKFold(n_splits=10, random_state=1, shuffle=True))\n",
    "                print_scores(results)"
   ]
  },
  {
   "cell_type": "code",
   "execution_count": null,
   "id": "0f3b7741-dc8f-4275-bd05-eb528a9feb07",
   "metadata": {},
   "outputs": [],
   "source": [
    "print_scores(results)"
   ]
  },
  {
   "cell_type": "code",
   "execution_count": null,
   "id": "4714f6a2-9b2d-42bc-b375-dbefe1806490",
   "metadata": {},
   "outputs": [],
   "source": [
    "from joblib import dump, load\n",
    "for key,model in clf_dict.items():\n",
    "    model.fit(X[new_features],y['Covid'])\n",
    "    dump(model, f'./MODELS/{key}_all_patients.joblib')\n",
    "    \n",
    "with open('./MODELS/USED_FEATURES.txt','w') as fout:\n",
    "    for item in new_features:\n",
    "        fout.write(f'{item};')"
   ]
  },
  {
   "cell_type": "code",
   "execution_count": null,
   "id": "cb7cdcd7-c1cf-4769-b795-ff6f0476c893",
   "metadata": {},
   "outputs": [],
   "source": [
    "with open('./MODELS/USED_FEATURES.txt','r') as fin:\n",
    "    used_features = fin.read().rstrip(';').split(';')"
   ]
  },
  {
   "cell_type": "code",
   "execution_count": null,
   "id": "30d29ec9-3469-44bb-8597-d86c58fc0cd7",
   "metadata": {},
   "outputs": [],
   "source": [
    "param_dist1 = {'n_neighbors': randint(1, 10), 'metric': ['manhattan', 'minkowski']}\n",
    "param_dist2 = {'n_estimators': randint(10, 1000), 'max_features': ['sqrt', 'log2'],'max_depth': randint(2, 10),'min_samples_leaf':[1,2,3,10]}\n",
    "param_dist3 = {'C': uniform(loc=0, scale=4), 'penalty': ['l1', 'l2', 'elasticnet', None]}\n",
    "param_dist4 = {'n_estimators': randint(10, 1000), 'max_depth': randint(2, 10), 'learning_rate': uniform(0.01, 0.5),'min_samples_leaf':[1,2,3,10]}\n",
    "param_dist5 = {'C': uniform(loc=0, scale=4), 'gamma': ['scale', 'auto'], 'kernel': ['rbf']}\n",
    "clf_dict_CV = {}\n",
    "# Create classifier instances\n",
    "clf1 = KNeighborsClassifier()\n",
    "clf2 = RandomForestClassifier(random_state=1)\n",
    "clf3 = LogisticRegression()\n",
    "clf4 = GradientBoostingClassifier(min_samples_leaf=2, random_state=1)\n",
    "clf5 = SVC(probability=True)\n",
    "eclf = VotingClassifier(estimators=[('knn', clf1), ('rf', clf2), ('gnb', clf3), ('gbc', clf4), ('svc', clf5)],\n",
    "                            voting='soft')\n",
    "# Create a dictionary of classifiers and their corresponding parameter distributions\n",
    "classifiers = {'KNN CV': (clf1, param_dist1), 'Random Forest CV': (clf2, param_dist2), 'Logistic Regression CV': (clf3, param_dist3), 'Gradient Boosting CV': (clf4, param_dist4), 'Support Vector Machine CV': (clf5, param_dist5)}\n",
    "#clf_dict = {}\n",
    "# Run hyperparameter tuning for each classifier using RandomizedSearchCV\n",
    "for name, (clf, param_dist) in classifiers.items():\n",
    "    #print(f'Tuning hyperparameters for {name}...')\n",
    "    rs = RandomizedSearchCV(clf, param_distributions=param_dist, n_iter=50, cv=5, random_state=1, n_jobs=-1)\n",
    "    clf_dict_CV[name] = Pipeline([\n",
    "                ('std',RobustScaler()),\n",
    "                ('pca',PCA(20)),\n",
    "                ('clf',rs)\n",
    "        \n",
    "        ])\n",
    "\n",
    "clf_dict_CV['Ensemble CV'] = Pipeline([\n",
    "                ('std',RobustScaler()),\n",
    "                ('pca',PCA(20)),\n",
    "                ('clf',eclf)\n",
    "        \n",
    "        ])\n",
    "    #print(f'Best hyperparameters: {rs.best_params_}')\n",
    "    #print(f'Training score: {rs.best_score_}')\n",
    "    #print(f'Test score: {rs.score(X_test, y_test)}')"
   ]
  },
  {
   "cell_type": "code",
   "execution_count": null,
   "id": "8ca644de-feaf-4fbc-aeb6-6d9884a41a51",
   "metadata": {},
   "outputs": [],
   "source": [
    "import contextlib\n",
    "filename ='./RESULTS/BASIC_MODELS.txt'\n",
    "with open(filename,'w') as fout:\n",
    "    with contextlib.redirect_stdout(fout):\n",
    "        print_scores(results)"
   ]
  },
  {
   "cell_type": "code",
   "execution_count": null,
   "id": "34a3d87d-51f3-4c07-bad3-a5d761cdd749",
   "metadata": {},
   "outputs": [],
   "source": [
    "filename ='./RESULTS/CV_MODELS.txt'\n",
    "with open(filename,'w') as fout:\n",
    "    with contextlib.redirect_stdout(fout):\n",
    "        results_2,list_df_2 = train_test(clf_dict_CV,X,y,new_features,return_train_score=False,cv=StratifiedGroupKFold(n_splits=10, random_state=1, shuffle=True))\n",
    "        print_scores(results_2)"
   ]
  },
  {
   "cell_type": "code",
   "execution_count": null,
   "id": "39558b14",
   "metadata": {},
   "outputs": [],
   "source": [
    "from joblib import dump, load\n",
    "for key,model in clf_dict.items():\n",
    "    model.fit(X[new_features],y['Covid'])\n",
    "    dump(model, f'./MODELS/{key}_cv_all_patients.joblib')"
   ]
  }
 ],
 "metadata": {
  "kernelspec": {
   "display_name": "Python 3 (ipykernel)",
   "language": "python",
   "name": "python3"
  },
  "language_info": {
   "codemirror_mode": {
    "name": "ipython",
    "version": 3
   },
   "file_extension": ".py",
   "mimetype": "text/x-python",
   "name": "python",
   "nbconvert_exporter": "python",
   "pygments_lexer": "ipython3",
   "version": "3.12.3"
  }
 },
 "nbformat": 4,
 "nbformat_minor": 5
}
